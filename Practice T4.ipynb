{
 "cells": [
  {
   "cell_type": "code",
   "execution_count": 1,
   "id": "7328ea06-cc6d-4c84-97d2-b928d4bf9c90",
   "metadata": {},
   "outputs": [
    {
     "data": {
      "text/plain": [
       "{'Ambient temperature [K]': 298.15,\n",
       " 'Boltzmann constant [J.K-1]': 1.380649e-23,\n",
       " 'Bulk solvent concentration [mol.m-3]': 2636.0,\n",
       " 'Cation transference number': 0.2594,\n",
       " 'Cell cooling surface area [m2]': 0.00531,\n",
       " 'Cell thermal expansion coefficient [m.K-1]': 1.1e-06,\n",
       " 'Cell volume [m3]': 2.42e-05,\n",
       " 'Contact resistance [Ohm]': 0,\n",
       " 'Current function [A]': 5.0,\n",
       " 'EC diffusivity [m2.s-1]': 2e-18,\n",
       " 'EC initial concentration in electrolyte [mol.m-3]': 4541.0,\n",
       " 'Electrode height [m]': 0.065,\n",
       " 'Electrode width [m]': 1.58,\n",
       " 'Electrolyte conductivity [S.m-1]': <function electrolyte_conductivity_Nyman2008 at 0x773131d3d260>,\n",
       " 'Electrolyte diffusivity [m2.s-1]': <function electrolyte_diffusivity_Nyman2008 at 0x773131d3d1c0>,\n",
       " 'Electron charge [C]': 1.602176634e-19,\n",
       " 'Faraday constant [C.mol-1]': 96485.33212331001,\n",
       " 'Ideal gas constant [J.K-1.mol-1]': 8.31446261815324,\n",
       " 'Initial SEI thickness [m]': 5e-09,\n",
       " 'Initial concentration in electrolyte [mol.m-3]': 1000.0,\n",
       " 'Initial concentration in negative electrode [mol.m-3]': 29866.0,\n",
       " 'Initial concentration in positive electrode [mol.m-3]': 17038.0,\n",
       " 'Initial temperature [K]': 298.15,\n",
       " 'Lithium interstitial reference concentration [mol.m-3]': 15.0,\n",
       " 'Lower voltage cut-off [V]': 2.5,\n",
       " 'Maximum concentration in negative electrode [mol.m-3]': 33133.0,\n",
       " 'Maximum concentration in positive electrode [mol.m-3]': 63104.0,\n",
       " 'Negative current collector conductivity [S.m-1]': 58411000.0,\n",
       " 'Negative current collector density [kg.m-3]': 8960.0,\n",
       " 'Negative current collector specific heat capacity [J.kg-1.K-1]': 385.0,\n",
       " 'Negative current collector thermal conductivity [W.m-1.K-1]': 401.0,\n",
       " 'Negative current collector thickness [m]': 1.2e-05,\n",
       " 'Negative electrode Bruggeman coefficient (electrode)': 0,\n",
       " 'Negative electrode Bruggeman coefficient (electrolyte)': 1.5,\n",
       " 'Negative electrode OCP [V]': <function graphite_LGM50_ocp_Chen2020 at 0x77313567b060>,\n",
       " 'Negative electrode OCP entropic change [V.K-1]': 0.0,\n",
       " 'Negative electrode active material volume fraction': 0.75,\n",
       " 'Negative electrode charge transfer coefficient': 0.5,\n",
       " 'Negative electrode conductivity [S.m-1]': 215.0,\n",
       " 'Negative electrode density [kg.m-3]': 1657.0,\n",
       " 'Negative electrode double-layer capacity [F.m-2]': 0.2,\n",
       " 'Negative electrode exchange-current density [A.m-2]': <function graphite_LGM50_electrolyte_exchange_current_density_Chen2020 at 0x773131d063e0>,\n",
       " 'Negative electrode porosity': 0.25,\n",
       " 'Negative electrode reaction-driven LAM factor [m3.mol-1]': 0.0,\n",
       " 'Negative electrode specific heat capacity [J.kg-1.K-1]': 700.0,\n",
       " 'Negative electrode thermal conductivity [W.m-1.K-1]': 1.7,\n",
       " 'Negative electrode thickness [m]': 8.52e-05,\n",
       " 'Negative particle diffusivity [m2.s-1]': 3.3e-14,\n",
       " 'Negative particle radius [m]': 5.86e-06,\n",
       " 'Nominal cell capacity [A.h]': 5.0,\n",
       " 'Number of cells connected in series to make a battery': 1.0,\n",
       " 'Number of electrodes connected in parallel to make a cell': 1.0,\n",
       " 'Open-circuit voltage at 0% SOC [V]': 2.5,\n",
       " 'Open-circuit voltage at 100% SOC [V]': 4.2,\n",
       " 'Positive current collector conductivity [S.m-1]': 36914000.0,\n",
       " 'Positive current collector density [kg.m-3]': 2700.0,\n",
       " 'Positive current collector specific heat capacity [J.kg-1.K-1]': 897.0,\n",
       " 'Positive current collector thermal conductivity [W.m-1.K-1]': 237.0,\n",
       " 'Positive current collector thickness [m]': 1.6e-05,\n",
       " 'Positive electrode Bruggeman coefficient (electrode)': 0,\n",
       " 'Positive electrode Bruggeman coefficient (electrolyte)': 1.5,\n",
       " 'Positive electrode OCP [V]': <function nmc_LGM50_ocp_Chen2020 at 0x773131d3d080>,\n",
       " 'Positive electrode OCP entropic change [V.K-1]': 0.0,\n",
       " 'Positive electrode active material volume fraction': 0.665,\n",
       " 'Positive electrode charge transfer coefficient': 0.5,\n",
       " 'Positive electrode conductivity [S.m-1]': 0.18,\n",
       " 'Positive electrode density [kg.m-3]': 3262.0,\n",
       " 'Positive electrode double-layer capacity [F.m-2]': 0.2,\n",
       " 'Positive electrode exchange-current density [A.m-2]': <function nmc_LGM50_electrolyte_exchange_current_density_Chen2020 at 0x773131d3d120>,\n",
       " 'Positive electrode porosity': 0.335,\n",
       " 'Positive electrode reaction-driven LAM factor [m3.mol-1]': 0.0,\n",
       " 'Positive electrode specific heat capacity [J.kg-1.K-1]': 700.0,\n",
       " 'Positive electrode thermal conductivity [W.m-1.K-1]': 2.1,\n",
       " 'Positive electrode thickness [m]': 7.56e-05,\n",
       " 'Positive particle diffusivity [m2.s-1]': 4e-15,\n",
       " 'Positive particle radius [m]': 5.22e-06,\n",
       " 'Ratio of lithium moles to SEI moles': 2.0,\n",
       " 'Reference temperature [K]': 298.15,\n",
       " 'SEI electron conductivity [S.m-1]': 8.95e-14,\n",
       " 'SEI growth activation energy [J.mol-1]': 0.0,\n",
       " 'SEI kinetic rate constant [m.s-1]': 1e-12,\n",
       " 'SEI lithium interstitial diffusivity [m2.s-1]': 1e-20,\n",
       " 'SEI open-circuit potential [V]': 0.4,\n",
       " 'SEI partial molar volume [m3.mol-1]': 9.585e-05,\n",
       " 'SEI reaction exchange current density [A.m-2]': 1.5e-07,\n",
       " 'SEI resistivity [Ohm.m]': 200000.0,\n",
       " 'SEI solvent diffusivity [m2.s-1]': 2.5e-22,\n",
       " 'Separator Bruggeman coefficient (electrolyte)': 1.5,\n",
       " 'Separator density [kg.m-3]': 397.0,\n",
       " 'Separator porosity': 0.47,\n",
       " 'Separator specific heat capacity [J.kg-1.K-1]': 700.0,\n",
       " 'Separator thermal conductivity [W.m-1.K-1]': 0.16,\n",
       " 'Separator thickness [m]': 1.2e-05,\n",
       " 'Thermodynamic factor': 1.0,\n",
       " 'Total heat transfer coefficient [W.m-2.K-1]': 10.0,\n",
       " 'Upper voltage cut-off [V]': 4.2,\n",
       " 'citations': ['Chen2020']}"
      ]
     },
     "execution_count": 1,
     "metadata": {},
     "output_type": "execute_result"
    }
   ],
   "source": [
    "import pybamm\n",
    "parameter_values=pybamm.ParameterValues(\"Chen2020\")\n",
    "parameter_values"
   ]
  },
  {
   "cell_type": "code",
   "execution_count": 4,
   "id": "c88092d4-3995-4d48-80f5-6bf277bfb67a",
   "metadata": {},
   "outputs": [
    {
     "data": {
      "text/plain": [
       "0.065"
      ]
     },
     "execution_count": 4,
     "metadata": {},
     "output_type": "execute_result"
    }
   ],
   "source": [
    "parameter_values[\"Electrode height [m]\"]"
   ]
  },
  {
   "cell_type": "code",
   "execution_count": 6,
   "id": "53f687a1-a0fc-41f4-9379-de77484d13a8",
   "metadata": {},
   "outputs": [
    {
     "name": "stdout",
     "output_type": "stream",
     "text": [
      "Results for 'electrolyte': ['EC initial concentration in electrolyte [mol.m-3]', 'Electrolyte conductivity [S.m-1]', 'Electrolyte diffusivity [m2.s-1]', 'Initial concentration in electrolyte [mol.m-3]', 'Negative electrode Bruggeman coefficient (electrolyte)', 'Positive electrode Bruggeman coefficient (electrolyte)', 'Separator Bruggeman coefficient (electrolyte)']\n",
      "EC initial concentration in electrolyte [mol.m-3] -> 4541.0\n",
      "Electrolyte conductivity [S.m-1] -> <function electrolyte_conductivity_Nyman2008 at 0x773131d3d260>\n",
      "Electrolyte diffusivity [m2.s-1] -> <function electrolyte_diffusivity_Nyman2008 at 0x773131d3d1c0>\n",
      "Initial concentration in electrolyte [mol.m-3] -> 1000.0\n",
      "Negative electrode Bruggeman coefficient (electrolyte) -> 1.5\n",
      "Positive electrode Bruggeman coefficient (electrolyte) -> 1.5\n",
      "Separator Bruggeman coefficient (electrolyte) -> 1.5\n"
     ]
    }
   ],
   "source": [
    "parameter_values.search(\"electrolyte\")"
   ]
  },
  {
   "cell_type": "code",
   "execution_count": 7,
   "id": "cb796ef8-ac05-4d8d-b159-49297a7b8488",
   "metadata": {},
   "outputs": [],
   "source": [
    "model=pybamm.lithium_ion.DFN()"
   ]
  },
  {
   "cell_type": "code",
   "execution_count": 13,
   "id": "08a03b03-afdc-4b31-b1b4-b8efae6ac5ce",
   "metadata": {},
   "outputs": [
    {
     "data": {
      "application/vnd.jupyter.widget-view+json": {
       "model_id": "6f92c9e08a554803a9ad29c103fd8617",
       "version_major": 2,
       "version_minor": 0
      },
      "text/plain": [
       "interactive(children=(FloatSlider(value=0.0, description='t', max=3555.448018804816, step=35.55448018804816), …"
      ]
     },
     "metadata": {},
     "output_type": "display_data"
    },
    {
     "data": {
      "text/plain": [
       "<pybamm.plotting.quick_plot.QuickPlot at 0x77312db62b40>"
      ]
     },
     "execution_count": 13,
     "metadata": {},
     "output_type": "execute_result"
    }
   ],
   "source": [
    "sim = pybamm.Simulation(model, parameter_values=parameter_values)\n",
    "sim.solve([0, 3600])\n",
    "sim.plot()"
   ]
  },
  {
   "cell_type": "code",
   "execution_count": 14,
   "id": "204ed6ef-6fdd-4973-a102-af5104fd68a8",
   "metadata": {},
   "outputs": [
    {
     "name": "stdout",
     "output_type": "stream",
     "text": [
      "┌───────────────────────────────────────────────────────────┬─────────────────────────────────────────────────────────────────────────────────────────────────────────────────────────────────────────────────────────────────────────────────────────────────────────────┐\n",
      "│ Parameter                                                 │ Type of parameter                                                                                                                                                                                           │\n",
      "├───────────────────────────────────────────────────────────┼─────────────────────────────────────────────────────────────────────────────────────────────────────────────────────────────────────────────────────────────────────────────────────────────────────────────┤\n",
      "│ Upper voltage cut-off [V]                                 │ Parameter                                                                                                                                                                                                   │\n",
      "│ Separator Bruggeman coefficient (electrolyte)             │ Parameter                                                                                                                                                                                                   │\n",
      "│ Negative electrode thickness [m]                          │ Parameter                                                                                                                                                                                                   │\n",
      "│ Number of electrodes connected in parallel to make a cell │ Parameter                                                                                                                                                                                                   │\n",
      "│ Nominal cell capacity [A.h]                               │ Parameter                                                                                                                                                                                                   │\n",
      "│ Number of cells connected in series to make a battery     │ Parameter                                                                                                                                                                                                   │\n",
      "│ Ideal gas constant [J.K-1.mol-1]                          │ Parameter                                                                                                                                                                                                   │\n",
      "│ Maximum concentration in negative electrode [mol.m-3]     │ Parameter                                                                                                                                                                                                   │\n",
      "│ Positive electrode thickness [m]                          │ Parameter                                                                                                                                                                                                   │\n",
      "│ Negative electrode Bruggeman coefficient (electrolyte)    │ Parameter                                                                                                                                                                                                   │\n",
      "│ Positive electrode Bruggeman coefficient (electrolyte)    │ Parameter                                                                                                                                                                                                   │\n",
      "│ Electrode width [m]                                       │ Parameter                                                                                                                                                                                                   │\n",
      "│ Positive electrode Bruggeman coefficient (electrode)      │ Parameter                                                                                                                                                                                                   │\n",
      "│ Maximum concentration in positive electrode [mol.m-3]     │ Parameter                                                                                                                                                                                                   │\n",
      "│ Faraday constant [C.mol-1]                                │ Parameter                                                                                                                                                                                                   │\n",
      "│ Electrode height [m]                                      │ Parameter                                                                                                                                                                                                   │\n",
      "│ Initial concentration in electrolyte [mol.m-3]            │ Parameter                                                                                                                                                                                                   │\n",
      "│ Separator thickness [m]                                   │ Parameter                                                                                                                                                                                                   │\n",
      "│ Lower voltage cut-off [V]                                 │ Parameter                                                                                                                                                                                                   │\n",
      "│ Initial temperature [K]                                   │ Parameter                                                                                                                                                                                                   │\n",
      "│ Negative electrode Bruggeman coefficient (electrode)      │ Parameter                                                                                                                                                                                                   │\n",
      "│ Reference temperature [K]                                 │ Parameter                                                                                                                                                                                                   │\n",
      "│ Positive electrode OCP entropic change [V.K-1]            │ FunctionParameter with inputs(s) 'Positive particle stoichiometry'                                                                                                                                          │\n",
      "│ Ambient temperature [K]                                   │ FunctionParameter with inputs(s) 'Distance across electrode width [m]', 'Distance across electrode height [m]', 'Time [s]'                                                                                  │\n",
      "│ Positive electrode OCP [V]                                │ FunctionParameter with inputs(s) 'Positive particle stoichiometry'                                                                                                                                          │\n",
      "│ Cation transference number                                │ FunctionParameter with inputs(s) 'Electrolyte concentration [mol.m-3]', 'Temperature [K]'                                                                                                                   │\n",
      "│ Positive electrode active material volume fraction        │ FunctionParameter with inputs(s) 'Through-cell distance (x) [m]'                                                                                                                                            │\n",
      "│ Initial concentration in positive electrode [mol.m-3]     │ FunctionParameter with inputs(s) 'Radial distance (r) [m]', 'Through-cell distance (x) [m]'                                                                                                                 │\n",
      "│ Negative electrode active material volume fraction        │ FunctionParameter with inputs(s) 'Through-cell distance (x) [m]'                                                                                                                                            │\n",
      "│ Positive particle diffusivity [m2.s-1]                    │ FunctionParameter with inputs(s) 'Positive particle stoichiometry', 'Temperature [K]'                                                                                                                       │\n",
      "│ Separator porosity                                        │ FunctionParameter with inputs(s) 'Through-cell distance (x) [m]'                                                                                                                                            │\n",
      "│ Negative particle radius [m]                              │ FunctionParameter with inputs(s) 'Through-cell distance (x) [m]'                                                                                                                                            │\n",
      "│ Positive electrode porosity                               │ FunctionParameter with inputs(s) 'Through-cell distance (x) [m]'                                                                                                                                            │\n",
      "│ Negative electrode OCP [V]                                │ FunctionParameter with inputs(s) 'Negative particle stoichiometry'                                                                                                                                          │\n",
      "│ Negative electrode OCP entropic change [V.K-1]            │ FunctionParameter with inputs(s) 'Negative particle stoichiometry'                                                                                                                                          │\n",
      "│ Current function [A]                                      │ FunctionParameter with inputs(s) 'Time [s]'                                                                                                                                                                 │\n",
      "│ Positive particle radius [m]                              │ FunctionParameter with inputs(s) 'Through-cell distance (x) [m]'                                                                                                                                            │\n",
      "│ Thermodynamic factor                                      │ FunctionParameter with inputs(s) 'Electrolyte concentration [mol.m-3]', 'Temperature [K]'                                                                                                                   │\n",
      "│ Negative electrode exchange-current density [A.m-2]       │ FunctionParameter with inputs(s) 'Electrolyte concentration [mol.m-3]', 'Negative particle surface concentration [mol.m-3]', 'Maximum negative particle surface concentration [mol.m-3]', 'Temperature [K]' │\n",
      "│ Positive electrode conductivity [S.m-1]                   │ FunctionParameter with inputs(s) 'Temperature [K]'                                                                                                                                                          │\n",
      "│ Electrolyte conductivity [S.m-1]                          │ FunctionParameter with inputs(s) 'Electrolyte concentration [mol.m-3]', 'Temperature [K]'                                                                                                                   │\n",
      "│ Electrolyte diffusivity [m2.s-1]                          │ FunctionParameter with inputs(s) 'Electrolyte concentration [mol.m-3]', 'Temperature [K]'                                                                                                                   │\n",
      "│ Negative electrode porosity                               │ FunctionParameter with inputs(s) 'Through-cell distance (x) [m]'                                                                                                                                            │\n",
      "│ Positive electrode exchange-current density [A.m-2]       │ FunctionParameter with inputs(s) 'Electrolyte concentration [mol.m-3]', 'Positive particle surface concentration [mol.m-3]', 'Maximum positive particle surface concentration [mol.m-3]', 'Temperature [K]' │\n",
      "│ Negative particle diffusivity [m2.s-1]                    │ FunctionParameter with inputs(s) 'Negative particle stoichiometry', 'Temperature [K]'                                                                                                                       │\n",
      "│ Initial concentration in negative electrode [mol.m-3]     │ FunctionParameter with inputs(s) 'Radial distance (r) [m]', 'Through-cell distance (x) [m]'                                                                                                                 │\n",
      "│ Negative electrode conductivity [S.m-1]                   │ FunctionParameter with inputs(s) 'Temperature [K]'                                                                                                                                                          │\n",
      "└───────────────────────────────────────────────────────────┴─────────────────────────────────────────────────────────────────────────────────────────────────────────────────────────────────────────────────────────────────────────────────────────────────────────────┘\n",
      "\n"
     ]
    }
   ],
   "source": [
    "#Changing individual parameters\n",
    "model.print_parameter_info()"
   ]
  },
  {
   "cell_type": "code",
   "execution_count": 15,
   "id": "5f6ddeb8-1f4d-49c9-91d5-f1e4b6b9c60f",
   "metadata": {},
   "outputs": [],
   "source": [
    "parameter_values[\"Current function [A]\"]=10"
   ]
  },
  {
   "cell_type": "code",
   "execution_count": 16,
   "id": "0e0f894a-f67e-4acb-9441-fa62d60f1996",
   "metadata": {},
   "outputs": [
    {
     "data": {
      "application/vnd.jupyter.widget-view+json": {
       "model_id": "427429e6896e421aaf2299a583fc76c8",
       "version_major": 2,
       "version_minor": 0
      },
      "text/plain": [
       "interactive(children=(FloatSlider(value=0.0, description='t', max=1703.0716534618184, step=17.030716534618183)…"
      ]
     },
     "metadata": {},
     "output_type": "display_data"
    },
    {
     "data": {
      "text/plain": [
       "<pybamm.plotting.quick_plot.QuickPlot at 0x77312c1ab800>"
      ]
     },
     "execution_count": 16,
     "metadata": {},
     "output_type": "execute_result"
    }
   ],
   "source": [
    "sim=pybamm.Simulation(model,parameter_values=parameter_values)\n",
    "sim.solve([0,3600])\n",
    "sim.plot()"
   ]
  },
  {
   "cell_type": "code",
   "execution_count": 20,
   "id": "5b9246b8-e5cb-4f0c-ab1d-74733cf8fb49",
   "metadata": {},
   "outputs": [],
   "source": [
    "import numpy as np\n",
    "\n",
    "def my_current(t):\n",
    "    return pybamm.sin(2*np.pi*t/60)\n",
    "\n",
    "parameter_values[\"Current function [A]\"]=my_current"
   ]
  },
  {
   "cell_type": "code",
   "execution_count": 21,
   "id": "9a474daa-3367-45d1-acbf-82a392805149",
   "metadata": {},
   "outputs": [
    {
     "data": {
      "application/vnd.jupyter.widget-view+json": {
       "model_id": "412ac22b55754488a9e65b55a40ff0a5",
       "version_major": 2,
       "version_minor": 0
      },
      "text/plain": [
       "interactive(children=(FloatSlider(value=0.0, description='t', max=120.0, step=1.2), Output()), _dom_classes=('…"
      ]
     },
     "metadata": {},
     "output_type": "display_data"
    },
    {
     "data": {
      "text/plain": [
       "<pybamm.plotting.quick_plot.QuickPlot at 0x77312c17d250>"
      ]
     },
     "execution_count": 21,
     "metadata": {},
     "output_type": "execute_result"
    }
   ],
   "source": [
    "sim = pybamm.Simulation(model, parameter_values=parameter_values)\n",
    "t_eval = np.arange(0, 121, 1)\n",
    "sim.solve(t_eval=t_eval)\n",
    "sim.plot([\"Current [A]\", \"Voltage [V]\"])"
   ]
  },
  {
   "cell_type": "code",
   "execution_count": null,
   "id": "c06258bd-cbd6-4ade-842d-60bd5d0b6c13",
   "metadata": {},
   "outputs": [],
   "source": []
  }
 ],
 "metadata": {
  "kernelspec": {
   "display_name": "Python 3 (ipykernel)",
   "language": "python",
   "name": "python3"
  },
  "language_info": {
   "codemirror_mode": {
    "name": "ipython",
    "version": 3
   },
   "file_extension": ".py",
   "mimetype": "text/x-python",
   "name": "python",
   "nbconvert_exporter": "python",
   "pygments_lexer": "ipython3",
   "version": "3.12.1"
  }
 },
 "nbformat": 4,
 "nbformat_minor": 5
}
