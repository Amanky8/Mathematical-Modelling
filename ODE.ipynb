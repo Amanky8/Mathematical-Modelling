{
 "cells": [
  {
   "cell_type": "code",
   "execution_count": 2,
   "id": "6c3776ff-30f1-48f3-9ae0-509732e4686e",
   "metadata": {},
   "outputs": [],
   "source": [
    "import pybamm\n",
    "import numpy as np\n",
    "import matplotlib.pyplot as plt"
   ]
  },
  {
   "cell_type": "code",
   "execution_count": 2,
   "id": "6554620d-7925-4ee9-a1bd-39b4556057ea",
   "metadata": {},
   "outputs": [],
   "source": [
    "model=pybamm.BaseModel()"
   ]
  },
  {
   "cell_type": "code",
   "execution_count": 3,
   "id": "a8fcf7db-269b-4757-b58c-018227235f34",
   "metadata": {},
   "outputs": [],
   "source": [
    "x=pybamm.Variable(\"x\")\n",
    "y=pybamm.Variable(\"y\")"
   ]
  },
  {
   "cell_type": "code",
   "execution_count": 4,
   "id": "9b9dc95f-59ef-459f-b983-7b14d2406efc",
   "metadata": {},
   "outputs": [],
   "source": [
    "dxdt=4*x-2*y\n",
    "dydt=3*x-y"
   ]
  },
  {
   "cell_type": "code",
   "execution_count": null,
   "id": "36656642-8d4f-4823-b2f1-d6bcb58ed9a6",
   "metadata": {},
   "outputs": [],
   "source": []
  }
 ],
 "metadata": {
  "kernelspec": {
   "display_name": "Python 3 (ipykernel)",
   "language": "python",
   "name": "python3"
  },
  "language_info": {
   "codemirror_mode": {
    "name": "ipython",
    "version": 3
   },
   "file_extension": ".py",
   "mimetype": "text/x-python",
   "name": "python",
   "nbconvert_exporter": "python",
   "pygments_lexer": "ipython3",
   "version": "3.12.1"
  }
 },
 "nbformat": 4,
 "nbformat_minor": 5
}
